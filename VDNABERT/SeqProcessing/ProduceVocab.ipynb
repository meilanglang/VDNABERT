{
 "cells": [
  {
   "cell_type": "code",
   "execution_count": 57,
   "metadata": {},
   "outputs": [],
   "source": [
    "import logbook\n",
    "import re\n",
    "import os\n",
    "from Bio import SeqIO\n",
    "from attic_util import util\n",
    "from itertools import islice\n",
    "import numpy as np\n",
    "import linecache\n",
    "\n",
    "#handle file \n",
    "class SeqGenerator:\n",
    "    def __init__(self, filenames, nb_epochs, seqlen_ulim=5000):\n",
    "        self.filenames = filenames\n",
    "        self.nb_epochs = nb_epochs\n",
    "        self.seqlen_ulim = seqlen_ulim\n",
    "        self.logger = logbook.Logger(self.__class__.__name__)\n",
    "        self.logger.info('Number of epochs: {}'.format(nb_epochs))\n",
    "\n",
    "    def filehandle_generator(self):\n",
    "        for curr_epoch in range(self.nb_epochs):\n",
    "            for filename in self.filenames:\n",
    "                with open(filename) as file:\n",
    "                    self.logger.info('Opened file: {}'.format(filename))\n",
    "                    self.logger.info('Memory usage: {} MB'.format(util.memory_usage()))\n",
    "                    self.logger.info('Current epoch: {} / {}'.format(curr_epoch + 1, self.nb_epochs))\n",
    "                    yield file\n",
    "                    \n",
    "\n",
    "    def generator(self, rng):\n",
    "        for fh in self.filehandle_generator():\n",
    "            print(fh)\n",
    "            # SeqIO takes twice as much memory than even simple fh.readlines()\n",
    "            for seq_record in SeqIO.parse(fh, \"fasta\"):\n",
    "                whole_seq = seq_record.seq\n",
    "                self.logger.info('Whole fasta seqlen: {}'.format(len(whole_seq)))\n",
    "                curr_left = 0\n",
    "                while curr_left < len(whole_seq):\n",
    "                    seqlen = rng.randint(self.seqlen_ulim // 2, self.seqlen_ulim)\n",
    "                    segment = seq_record.seq[curr_left: seqlen + curr_left]\n",
    "                    curr_left += seqlen\n",
    "                    self.logger.debug('input seq len: {}'.format(len(segment)))\n",
    "                    yield segment\n",
    "                    #print(segment)\n",
    "                    \n",
    "class SeqFragmenter:\n",
    "    \"\"\"\n",
    "    Split a sequence into small sequences based on some criteria, e.g. 'N' characters\n",
    "    \"\"\"\n",
    "    def __init__(self):\n",
    "        pass\n",
    "\n",
    "    def get_acgt_seqs(self, seq):\n",
    "        return remove_empty(re.split(r'[^ACGTacgt]+', str(seq)))\n",
    "\n",
    "def remove_empty(str_list):\n",
    "    return filter(bool, str_list)  # fastest way to remove empty string\n",
    "\n",
    "\n",
    "class SlidingKmerFragmenter:\n",
    "    \"\"\"\n",
    "    Slide only a single nucleotide\n",
    "    \"\"\"\n",
    "    def __init__(self, k_low, k_high):\n",
    "        self.k_low = k_low\n",
    "        self.k_high = k_high\n",
    "\n",
    "    def apply(self, rng, seq):\n",
    "        kmers=[seq[i: i + rng.randint(self.k_low, self.k_high + 1)] for i in range(len(seq) - self.k_high + 1)]\n",
    "        return kmers\n",
    "'''\n",
    "        with open ('vocab.txt', mode = 'a+',encoding='utf-8') as f:\n",
    "            for kmer in kmers_Noverlap:\n",
    "                file_line=[]\n",
    "                f.seek(0)\n",
    "                lines=f.readlines()\n",
    "                for line in lines:\n",
    "                    line=line.strip('\\n')\n",
    "                    file_line.append(line)\n",
    "                if kmer in file_line:\n",
    "                    pass\n",
    "                else:\n",
    "                    f.write(kmer+'\\n')\n",
    "            f.close()\n",
    "'''\n",
    "\n",
    "class SeqMapper:\n",
    "    def __init__(self, use_revcomp=True):\n",
    "        self.use_revcomp = use_revcomp\n",
    "\n",
    "    def apply(self, rng, seq): \n",
    "        seq = seq.lower()\n",
    "        if self.use_revcomp and rng.rand() < 0.5:\n",
    "            return seq.reverse_complement()\n",
    "        else:\n",
    "            return seq\n",
    "\n",
    "'''\n",
    "        file_path='/home/langmei/notebook/study_software/pro_bert_input/inputs/vocab/'\n",
    "        filenames =os.listdir(file_path)\n",
    "        file_name=filenames[0]\n",
    "        with open (file_path+'vocab.txt', mode = 'a+',encoding='utf-8') as f:\n",
    "            vocab_file=linecache.getlines(file_name)\n",
    "            print(vocab_file)\n",
    "            for kmer in kmers_Noverlap:\n",
    "                if kmer not in vocab_file:\n",
    "                     f.write(kmer+'\\n')\n",
    "                # f.close()\n",
    "            return kmers\n",
    "\n",
    "'''\n",
    "\n",
    "class KmerSeqIterable:\n",
    "    def __init__(self,rand_seed,seq_generator, mapper, seq_fragmenter, kmer_fragmenter):\n",
    "        self.logger = logbook.Logger(self.__class__.__name__)\n",
    "        self.seq_generator = seq_generator\n",
    "        self.mapper = mapper\n",
    "        self.kmer_fragmenter = kmer_fragmenter\n",
    "        self.seq_fragmenter = seq_fragmenter\n",
    "        self.rand_seed = rand_seed\n",
    "        self.iter_count = 0\n",
    "   \n",
    "    def __iter__(self):\n",
    "        all_kmer=[]\n",
    "        self.iter_count += 1\n",
    "        rng = np.random.RandomState(self.rand_seed)\n",
    "        for seq in self.seq_generator.generator(rng):\n",
    "            seq = self.mapper.apply(rng, seq)\n",
    "            acgt_seq_splits = list(self.seq_fragmenter.get_acgt_seqs(seq))\n",
    "            self.logger.debug('Splits of len={} to: {}'.format(len(seq), [len(f) for f in acgt_seq_splits]))\n",
    "            for acgt_seq in acgt_seq_splits:\n",
    "                kmers = self.kmer_fragmenter.apply(rng, acgt_seq)# list of strings\n",
    "                kmers.sort()\n",
    "                kmers_Noverlap=list(set(kmers))\n",
    "                for kmer in kmers_Noverlap:\n",
    "                    if kmer not in all_kmer:\n",
    "                        all_kmer.append(kmer)\n",
    "        with open ('vocab.txt', mode = 'a+',encoding='utf-8') as f:\n",
    "            for kmer in all_kmer:\n",
    "                    f.write(kmer+'\\n')\n",
    "            f.close()\n",
    "        #return all_kmer\n",
    "                        #print(all_kmer)\n",
    "                #yield kmer_seq\n",
    "\n",
    "    "
   ]
  },
  {
   "cell_type": "code",
   "execution_count": 65,
   "metadata": {},
   "outputs": [
    {
     "data": {
      "text/plain": [
       "<generator object SeqGenerator.generator at 0x7f0170f4f308>"
      ]
     },
     "execution_count": 65,
     "metadata": {},
     "output_type": "execute_result"
    }
   ],
   "source": [
    "nb_epochs=5\n",
    "path = '/home/langmei/notebook/study_software/pro_bert_input/inputs/test'\n",
    "os.chdir(path)\n",
    "filenames = os.listdir()\n",
    "#file_names=filenames[]\n",
    "#print(filenames)\n",
    "kmer_segment= SeqGenerator(filenames,nb_epochs)\n",
    "rand_seed=7\n",
    "rng=rng = np.random.RandomState(rand_seed)\n",
    "kmer_segment.generator(rng)"
   ]
  },
  {
   "cell_type": "code",
   "execution_count": 66,
   "metadata": {},
   "outputs": [],
   "source": [
    "kmer_fragmenter = SlidingKmerFragmenter(3, 8)"
   ]
  },
  {
   "cell_type": "code",
   "execution_count": 67,
   "metadata": {},
   "outputs": [],
   "source": [
    " kmer_seq_iterable = KmerSeqIterable(\n",
    "        rand_seed,\n",
    "        SeqGenerator(filenames, nb_epochs),\n",
    "        SeqMapper(),\n",
    "        SeqFragmenter(),\n",
    "        kmer_fragmenter,\n",
    " )"
   ]
  },
  {
   "cell_type": "code",
   "execution_count": 68,
   "metadata": {},
   "outputs": [
    {
     "name": "stdout",
     "output_type": "stream",
     "text": [
      "<_io.TextIOWrapper name='chr1.fa' mode='r' encoding='UTF-8'>\n",
      "<_io.TextIOWrapper name='chr1.fa' mode='r' encoding='UTF-8'>\n",
      "<_io.TextIOWrapper name='chr1.fa' mode='r' encoding='UTF-8'>\n",
      "<_io.TextIOWrapper name='chr1.fa' mode='r' encoding='UTF-8'>\n",
      "<_io.TextIOWrapper name='chr1.fa' mode='r' encoding='UTF-8'>\n"
     ]
    }
   ],
   "source": [
    "kmer_seq_iterable.__iter__()"
   ]
  },
  {
   "cell_type": "code",
   "execution_count": null,
   "metadata": {},
   "outputs": [],
   "source": [
    "  "
   ]
  },
  {
   "cell_type": "code",
   "execution_count": null,
   "metadata": {},
   "outputs": [],
   "source": []
  }
 ],
 "metadata": {
  "kernelspec": {
   "display_name": "Python 3",
   "language": "python",
   "name": "python3"
  },
  "language_info": {
   "codemirror_mode": {
    "name": "ipython",
    "version": 3
   },
   "file_extension": ".py",
   "mimetype": "text/x-python",
   "name": "python",
   "nbconvert_exporter": "python",
   "pygments_lexer": "ipython3",
   "version": "3.6.9"
  }
 },
 "nbformat": 4,
 "nbformat_minor": 4
}
